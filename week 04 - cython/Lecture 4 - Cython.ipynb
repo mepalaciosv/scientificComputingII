{
 "cells": [
  {
   "cell_type": "markdown",
   "id": "67118cac",
   "metadata": {},
   "source": [
    "<h1 style=\"color: teal\">Lecture 4 - Cython</h1>\n",
    "\n",
    "<strong style=\"color: #1B2A49\">E. Margarita Palacios Vargas<br>\n",
    "Fundación Universitaria Konrad Lorenz</strong>\n",
    "\n",
    "---"
   ]
  },
  {
   "cell_type": "markdown",
   "id": "e41b94fb-7fd2-4e91-8a95-0809acf6f96d",
   "metadata": {},
   "source": [
    "<h2 style=\"color: teal\">Cython</h2>\n",
    "\n",
    "Cython is a Python compiler that makes writing C extensions for Python as easy as Python itself. Cython translates Python code to C/C++ code but additionally supports calling C functions and declaring C types on variables and class attributes. This allows the compiler to generate very efficient C code from Cython code.\n",
    "\n",
    "This makes Cython the ideal language for wrapping external C libraries, and for fast C modules that speed up the execution of Python code.\n",
    "\n",
    "<h4 style=\"color: teal\">Installation</h4>\n",
    "\n",
    "<p>You can use either <code>pip</code> or <code>Anaconda</code> to install Cython:</p>\n",
    "\n",
    "<div style=\"display: flex; text-align: center;\">\n",
    "  <div style=\"flex: 1; margin-right: 50px;\">\n",
    "    <pre><code class=\"language-bash\">pip install cython</code></pre>\n",
    "  </div>\n",
    "\n",
    "  <div style=\"flex: 1; margin-right: 50px;\">\n",
    "    <p>or</p>\n",
    "  </div>\n",
    "\n",
    "  <div style=\"flex: 1; margin-right: 50px;\">\n",
    "    <pre><code class=\"language-bash\">conda install cython</code></pre>\n",
    "  </div>\n",
    "</div>\n",
    "\n",
    "<h4 style=\"color: teal\">Usage</h4>\n",
    "\n",
    "In Jupyter notebook, you can load the Cython extension as follows:"
   ]
  },
  {
   "cell_type": "code",
   "execution_count": 2,
   "id": "a53b88ab-4b3e-4fde-9d0d-28df69087912",
   "metadata": {},
   "outputs": [],
   "source": [
    "%load_ext Cython"
   ]
  },
  {
   "cell_type": "markdown",
   "id": "8525aa86-7084-4227-82ca-11a5c55413c4",
   "metadata": {},
   "source": [
    "Then, prefix a cell with the `%%cython` marker to compile it"
   ]
  },
  {
   "cell_type": "code",
   "execution_count": null,
   "id": "00d3f986-7de5-4fbb-afd6-1e70ed98aef5",
   "metadata": {},
   "outputs": [],
   "source": [
    "%%cython\n",
    "# The quiet is because Windows is annoying with Cython\n",
    "\n",
    "cdef long long a = 0 # Better than old syntax -> a: cython.int = 0\n",
    "cdef long long i\n",
    "for i in range(int(1e7)):\n",
    "    a += i\n",
    "print(a)"
   ]
  },
  {
   "cell_type": "markdown",
   "id": "f3b6237f-2ff5-46c5-8ae6-990c92efbd2f",
   "metadata": {},
   "source": [
    "Using the `--annotate` option will show Cython’s code analysis:"
   ]
  },
  {
   "cell_type": "code",
   "execution_count": null,
   "id": "260bb20f-5965-452d-8604-896057f3fb46",
   "metadata": {
    "scrolled": true
   },
   "outputs": [],
   "source": [
    "%%cython --annotate\n",
    "\n",
    "cdef long long a = 0\n",
    "cdef long long i\n",
    "\n",
    "for i in range(int(1e7)):\n",
    "    a += i\n",
    "print(a)"
   ]
  },
  {
   "cell_type": "markdown",
   "id": "f748bddf-99c3-4508-89d6-3034ee1b72bd",
   "metadata": {},
   "source": [
    "Of course, we can test performance of compiled and native Python:"
   ]
  },
  {
   "cell_type": "code",
   "execution_count": null,
   "id": "1f8e5fec-8767-47f0-a432-12bec51a176a",
   "metadata": {},
   "outputs": [],
   "source": [
    "%%cython\n",
    "\n",
    "def sum_numbers_cython(int n):\n",
    "    # This code includes type declarations (e.g., cdef int) for variables,\n",
    "    # which allows Cython to generate more efficient C code.\n",
    "    cdef int result = 0\n",
    "    cdef int i\n",
    "    for i in range(1, n + 1):\n",
    "        result += i\n",
    "    return result"
   ]
  },
  {
   "cell_type": "code",
   "execution_count": null,
   "id": "19381568-5bdc-4418-a367-9adc41156d3f",
   "metadata": {},
   "outputs": [],
   "source": [
    "def sum_numbers(n):\n",
    "    result = 0\n",
    "    for i in range(1, n+1):\n",
    "        result += i\n",
    "    return result"
   ]
  },
  {
   "cell_type": "code",
   "execution_count": null,
   "id": "027c85b2-278f-4377-9e7d-dd98e09a5ec1",
   "metadata": {},
   "outputs": [],
   "source": [
    "N = 2000\n",
    "%timeit sum_numbers(N)\n",
    "%timeit sum_numbers_cython(N)"
   ]
  },
  {
   "cell_type": "markdown",
   "id": "87de7b74-f3be-46b3-be47-810b7e639ece",
   "metadata": {},
   "source": [
    "---"
   ]
  },
  {
   "cell_type": "markdown",
   "id": "e23ecc7e-40c7-47d2-979d-5ff15a32459d",
   "metadata": {},
   "source": [
    "<h2 style=\"color: teal\">Main differences between Cython and Python code</h2>\n",
    "\n",
    "| **Feature**              | **Python**                 | **Cython Equivalent**                       |\n",
    "|---------------------------|----------------------------|---------------------------------------------|\n",
    "| Variables                 | `x = 0`                   | `cdef int x = 0`                            |\n",
    "| Functions                 | `def f(x): ...`           | `cdef int f(int x): ...` <br> `cpdef` for Python + C access |\n",
    "| Loops                     | `for i in range(10**7):`  | `cdef int i` <br> `for i in range(10**7):` |\n",
    "| Arrays (NumPy)            | `np.zeros((1000,))`       | `cdef double[:] arr = np.zeros(1000)`       |\n",
    "| External C functions      | *Not possible directly*   | `cdef extern from \"math.h\": double sin(double x)` |\n",
    "| Compiler directives       | *None*                    | `# cython: boundscheck=False, wraparound=False` |\n"
   ]
  },
  {
   "cell_type": "markdown",
   "id": "1d60bbdb",
   "metadata": {},
   "source": [
    "---"
   ]
  },
  {
   "cell_type": "markdown",
   "id": "2f834bbf-77b3-48cb-a388-30c6fb6fbe7d",
   "metadata": {},
   "source": [
    "<h2 style=\"color: teal\">Cythonize outside Jupyter</h2>\n",
    "\n",
    "`cythonize` is a function provided by the `Cython` library that is used to compile `Cython` code (which presents itself as `.pyx` files) into `C` code and then into `Python` extension modules. In short, it converts `Cython` code into a form that can be imported in `Python`, usually with much better performance for computationally intensive tasks. `cythonize` simplifies the build process for developers who want to optimize `Python` using `Cython`.\n",
    "\n",
    "Suppose we have the following structure inside the `examples/` folder:\n",
    "\n",
    "```\n",
    "examples/\n",
    "├── module1.pyx\n",
    "├── setup.py\n",
    "└── main.py\n",
    "```\n",
    "\n",
    "### 1. The `.pyx` file\n",
    "\n",
    "`module1.pyx` contains the Cython code we want to compile:\n",
    "\n",
    "```cython\n",
    "# examples/module1.pyx\n",
    "def square(int x):\n",
    "    return x * x\n",
    "```\n",
    "\n",
    "### 2. The `setup.py` build script\n",
    "\n",
    "The `setup.py` file uses `cythonize` to compile the `.pyx` code:\n",
    "\n",
    "```python\n",
    "# examples/setup.py\n",
    "from setuptools import setup\n",
    "from Cython.Build import cythonize\n",
    "\n",
    "setup(\n",
    "    ext_modules = cythonize(\"module1.pyx\")\n",
    ")\n",
    "```\n",
    "\n",
    "### 3. Build the extension\n",
    "\n",
    "From the `examples/` folder, run:\n",
    "\n",
    "```bash\n",
    "cd examples\n",
    "python setup.py build_ext --inplace\n",
    "```\n",
    "\n",
    "This command compiles your Cython code into a shared library:\n",
    "\n",
    "- On Linux/macOS: `module1.cpython-311-x86_64-linux-gnu.so`\n",
    "- On Windows: `module1.cp311-win_amd64.pyd`\n",
    "\n",
    "The `--inplace` flag ensures the compiled file is created directly in the `examples/` directory so it can be imported right away. You can also trigger this programmatically inside Python (e.g. in a notebook):"
   ]
  },
  {
   "cell_type": "code",
   "execution_count": null,
   "id": "21529f37-d92d-4d06-994c-eaa7c0dbd3f8",
   "metadata": {},
   "outputs": [],
   "source": [
    "from os import system\n",
    "system(\"cd examples/ && python setup.py build_ext --inplace\")"
   ]
  },
  {
   "cell_type": "markdown",
   "id": "70984624-c9f4-4c71-ba19-54b8b3c6bc64",
   "metadata": {},
   "source": [
    "### 4. Use the compiled module\n",
    "\n",
    "Finally, in `main.py` you can import and use your Cython function like a normal Python module:\n",
    "\n",
    "```python\n",
    "# examples/main.py\n",
    "from module1 import function\n",
    "\n",
    "result = function(10) # Output: 20\n",
    "print(result)\n",
    "\n",
    "```\n",
    "\n",
    "Run it from the shell:\n",
    "\n",
    "```shell\n",
    "python examples/main.py\n",
    "```\n",
    "\n",
    "---"
   ]
  },
  {
   "cell_type": "markdown",
   "id": "ab62c81d-8bf1-44aa-aa35-036eeeb8b256",
   "metadata": {},
   "source": [
    "<h2 style=\"color: teal\">Functions and libraries</h2>\n",
    "\n",
    "<h4 style=\"color: teal\">1. Numpy</h4>\n",
    "\n",
    "Consider the following piece of code, where we define a function that calculates the aritmethic mean of a given array."
   ]
  },
  {
   "cell_type": "code",
   "execution_count": null,
   "id": "8b6740b1-3a9b-4f65-83b0-d246ba06a8ac",
   "metadata": {},
   "outputs": [],
   "source": [
    "%%cython\n",
    "\n",
    "# To define a function we use the \"cpdef\" instruction\n",
    "cpdef double cython_mean(long long[:] array):\n",
    "    cdef int n = array.shape[0]\n",
    "    cdef double sum_val = 0.\n",
    "    cdef int ii\n",
    "    for ii in range(n):\n",
    "        sum_val += array[ii]\n",
    "\n",
    "    return sum_val / n"
   ]
  },
  {
   "cell_type": "markdown",
   "id": "d86e81df-dad3-4a54-8c2a-07b893c4c871",
   "metadata": {},
   "source": [
    "and now we test this function with numpy arrays:"
   ]
  },
  {
   "cell_type": "code",
   "execution_count": null,
   "id": "d2788e96-83ed-4c6d-bb22-7c750b5e61f0",
   "metadata": {},
   "outputs": [],
   "source": [
    "import numpy as np\n",
    "\n",
    "arr = np.random.randint(1, 100, int(1e8), dtype = np.int64)\n",
    "result = cython_mean(arr)\n",
    "print(result)"
   ]
  },
  {
   "cell_type": "code",
   "execution_count": null,
   "id": "ca844c3c-ed4c-4a1a-8d72-a04d7a88974f",
   "metadata": {},
   "outputs": [],
   "source": [
    "# Let us test times\n",
    "%timeit cython_mean(arr)\n",
    "%timeit np.mean(arr)"
   ]
  },
  {
   "cell_type": "markdown",
   "id": "636f1fb7-cd15-4b3c-b3ca-5efd3c405f74",
   "metadata": {},
   "source": [
    "Now consider the following code, which aims to perform matrix multiplication using `Cython`:"
   ]
  },
  {
   "cell_type": "code",
   "execution_count": 3,
   "id": "8dfe0772-4ee2-477f-b851-22d8a1db5cf4",
   "metadata": {},
   "outputs": [],
   "source": [
    "%%cython\n",
    "\n",
    "import numpy as np\n",
    "cimport numpy as np\n",
    "\n",
    "cpdef np.ndarray[double, ndim = 2] matrix_multiply(np.ndarray[double, ndim = 2] A, np.ndarray[double, ndim = 2] B):\n",
    "    cdef int m, n, p\n",
    "    m = A.shape[0]\n",
    "    n = A.shape[1]\n",
    "    p = B.shape[1]\n",
    "    \n",
    "    cdef np.ndarray[double, ndim = 2] result = np.zeros((m, p), dtype = np.float64)\n",
    "    \n",
    "    cdef int i, j, k\n",
    "    for i in range(m):\n",
    "        for j in range(p):\n",
    "            for k in range(n):\n",
    "                result[i, j] += A[i, k] * B[k, j]\n",
    "    \n",
    "    return result"
   ]
  },
  {
   "cell_type": "code",
   "execution_count": 4,
   "id": "09736f88-24a4-4a9d-af48-6ec5cf9ef01b",
   "metadata": {},
   "outputs": [
    {
     "name": "stdout",
     "output_type": "stream",
     "text": [
      "[[246.54908125 246.93046803 254.73557631 ... 252.21689701 244.72653593\n",
      "  253.61978807]\n",
      " [240.68926004 242.48004361 248.16050777 ... 247.57737147 229.78032075\n",
      "  239.52326159]\n",
      " [246.63367537 249.5989984  252.32224549 ... 250.95098232 242.88089472\n",
      "  250.81961474]\n",
      " ...\n",
      " [248.45193162 247.26246521 265.4301939  ... 253.60962911 247.98755238\n",
      "  258.59690621]\n",
      " [252.83634714 257.03004697 257.37644692 ... 257.77276936 251.39779244\n",
      "  257.38407631]\n",
      " [243.78471068 248.72711063 257.16611872 ... 243.55620294 244.61846491\n",
      "  250.11790667]]\n"
     ]
    }
   ],
   "source": [
    "# Create two NumPy arrays\n",
    "A = np.random.rand(1000, 1000)\n",
    "B = np.random.rand(1000, 1000)\n",
    "\n",
    "# Call the Cython function for matrix multiplication\n",
    "result = matrix_multiply(A, B)\n",
    "\n",
    "# Print the result\n",
    "print(result)"
   ]
  },
  {
   "cell_type": "code",
   "execution_count": 5,
   "id": "83c03246-78ee-4bbe-a0b6-e7261149f525",
   "metadata": {},
   "outputs": [
    {
     "name": "stdout",
     "output_type": "stream",
     "text": [
      "11.2 s ± 327 ms per loop (mean ± std. dev. of 7 runs, 1 loop each)\n",
      "36.2 ms ± 1.22 ms per loop (mean ± std. dev. of 7 runs, 10 loops each)\n"
     ]
    }
   ],
   "source": [
    "%timeit matrix_multiply(A, B)\n",
    "%timeit A.dot(B)"
   ]
  },
  {
   "cell_type": "markdown",
   "id": "e9103a8f-de09-4a74-b345-297c4265b360",
   "metadata": {},
   "source": [
    "<h4 style=\"color: teal\">2. Cython</h4>\n",
    "\n",
    "Consider the following `Cython` code, used to calculate the CDF of a normal distribution:"
   ]
  },
  {
   "cell_type": "code",
   "execution_count": 6,
   "id": "a0d72d01-631d-4d83-beaf-1e072d060542",
   "metadata": {},
   "outputs": [],
   "source": [
    "%%cython\n",
    "cimport numpy as np\n",
    "from scipy.stats import norm\n",
    "\n",
    "cpdef np.ndarray[double] cdf_normal(np.ndarray[double] x, double loc, double scale):\n",
    "    return norm.cdf(x, loc, scale)"
   ]
  },
  {
   "cell_type": "code",
   "execution_count": 7,
   "id": "de40bb2b-ab0c-4bbb-8cea-ef0bd30e6e39",
   "metadata": {},
   "outputs": [
    {
     "name": "stdout",
     "output_type": "stream",
     "text": [
      "1.11 s ± 17.5 ms per loop (mean ± std. dev. of 7 runs, 1 loop each)\n",
      "1.12 s ± 4.66 ms per loop (mean ± std. dev. of 7 runs, 1 loop each)\n"
     ]
    }
   ],
   "source": [
    "import numpy as np\n",
    "from scipy.stats import norm\n",
    "\n",
    "# Generate test data\n",
    "x = np.random.normal(0, 1, int(1e7))\n",
    "\n",
    "# Calculate CDF using SciPy\n",
    "%timeit norm.cdf(x, loc = 0, scale = 1)\n",
    "\n",
    "# Calculate CDF using the Cython-optimized function\n",
    "%timeit cdf_normal(x, loc = 0, scale = 1)"
   ]
  },
  {
   "cell_type": "markdown",
   "id": "c60818f1-f7bf-44f7-a408-54e27e9e6e32",
   "metadata": {},
   "source": [
    "<h4 style=\"color: teal\">3. Sympy</h4>\n",
    "\n",
    "Let's do a bit of symbolic differentiation:"
   ]
  },
  {
   "cell_type": "code",
   "execution_count": 8,
   "id": "d1faa1fd-fa0f-433b-a844-e622e9e8b135",
   "metadata": {},
   "outputs": [],
   "source": [
    "%%cython\n",
    "\n",
    "from sympy import symbols, diff\n",
    "\n",
    "cpdef symbolic_differentiation():\n",
    "    x = symbols('x')\n",
    "    expression = x**3 + 2*x**2 + 3*x + 4\n",
    "    derivative = diff(expression, x)\n",
    "    return derivative"
   ]
  },
  {
   "cell_type": "code",
   "execution_count": 9,
   "id": "878f4294-76f0-45c9-bde7-9c9c08d57f52",
   "metadata": {},
   "outputs": [
    {
     "name": "stdout",
     "output_type": "stream",
     "text": [
      "172 μs ± 3.37 μs per loop (mean ± std. dev. of 7 runs, 10,000 loops each)\n",
      "228 μs ± 2.53 μs per loop (mean ± std. dev. of 7 runs, 1,000 loops each)\n"
     ]
    }
   ],
   "source": [
    "x = symbols('x')\n",
    "expression = x**3 + 2*x**2 + 3*x + 4\n",
    "\n",
    "%timeit diff(expression, x)\n",
    "%timeit symbolic_differentiation()"
   ]
  },
  {
   "cell_type": "markdown",
   "id": "68ae7571-09d0-4b24-abe4-9e2288f0bfea",
   "metadata": {},
   "source": [
    "---"
   ]
  },
  {
   "cell_type": "markdown",
   "id": "3aab9605-57c6-4fa3-a674-92a5c9c5e869",
   "metadata": {},
   "source": [
    "<h2 style=\"color: teal\">Regarding Cython's speed</h2>\n",
    "\n",
    "\n",
    "It is important to remember that **Cython does not automatically make code faster**. Cython is most effective when:\n",
    "\n",
    "- You can add **static type declarations** (`cdef int x`)  \n",
    "- You can **avoid Python-level overhead** (e.g., object boxing/unboxing, bounds checking)  \n",
    "- You are working on **tight loops or custom algorithms** not already optimized in libraries  \n",
    "\n",
    "---\n",
    "\n",
    "<h4 style=\"color: teal\">Why NumPy is often faster than our Cython code?</h4>\n",
    "\n",
    "- **NumPy functions (`dot`, `sum`, etc.) call BLAS/LAPACK**  \n",
    "  These are highly optimized C/Fortran libraries (MKL, OpenBLAS, Accelerate) for Linear Algebra stuff, with:\n",
    "  - Cache blocking\n",
    "  - SIMD vectorization (Single Instruction, Multiple Data)\n",
    "  - Multi-threading\n",
    "\n",
    "\n",
    "- **Naive Cython loops are single-threaded**  \n",
    "  Even with typed variables, a plain `for` loop:\n",
    "  - Does no caché optimization\n",
    "  - Executes in pure C, but with no vectorization\n",
    "  - Still pays some overhead if using `np.ndarray[...]` indexing\n",
    "\n",
    "---\n",
    "\n",
    "<h4 style=\"color: teal\">Rule of Thumb</h4>\n",
    "\n",
    "- Use **NumPy / SciPy** first → they are already written in C/Fortran and optimized for decades.  \n",
    "- Use **Cython** when:\n",
    "  - You need to accelerate **pure Python code** that has no good NumPy equivalent  \n",
    "  - You want to write **custom low-level algorithms** (e.g., specialized simulations, parsing, tight loops)  \n",
    "  - You need to interface with **external C/C++ libraries**\n",
    "\n",
    "---\n",
    "\n",
    "<h4 style=\"color: teal\">Takeaway</h4>\n",
    "\n",
    "If you compare Cython loops to NumPy’s `dot` or `sum`, NumPy will usually win.  \n",
    "Cython shines when you step **outside the NumPy toolbox** or need **custom logic** that BLAS/LAPACK can’t cover.\n"
   ]
  },
  {
   "cell_type": "code",
   "execution_count": null,
   "id": "87c55790-a893-4c27-a55d-834ab57d82b6",
   "metadata": {},
   "outputs": [],
   "source": []
  }
 ],
 "metadata": {
  "kernelspec": {
   "display_name": "Python (debugpy)",
   "language": "python",
   "name": "debugpy"
  },
  "language_info": {
   "codemirror_mode": {
    "name": "ipython",
    "version": 3
   },
   "file_extension": ".py",
   "mimetype": "text/x-python",
   "name": "python",
   "nbconvert_exporter": "python",
   "pygments_lexer": "ipython3",
   "version": "3.13.5"
  }
 },
 "nbformat": 4,
 "nbformat_minor": 5
}
