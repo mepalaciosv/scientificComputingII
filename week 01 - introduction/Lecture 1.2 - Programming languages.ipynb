{
 "cells": [
  {
   "cell_type": "markdown",
   "id": "5ebfcf08-1f5d-4089-94bc-06076f1b5e18",
   "metadata": {},
   "source": [
    "<h1 style=\"color: teal\">Lecture 1.2 - Programming languages</h1>\n",
    "\n",
    "<strong style=\"color: #1B2A49\">E. Margarita Palacios Vargas<br>\n",
    "Fundación Universitaria Konrad Lorenz</strong>\n",
    "\n",
    "---"
   ]
  },
  {
   "cell_type": "markdown",
   "id": "db7069ab-9948-4653-98d5-7d108bd8ccd5",
   "metadata": {},
   "source": [
    "<h2 style=\"color: teal\">Programming languages:</h2>\n",
    "\n",
    "<div style=\"display: flex; text-align: center;\">\n",
    "  <div style=\"flex: 1; margin-right: 50px;\">\n",
    "    <img src=\"https://github.com/mepalaciosv/scientificComputingII/blob/main/images/top-programming-languages.jpg?raw=true\" height=\"150\">\n",
    "  </div>\n",
    "\n",
    "  <div style=\"flex: 1; margin-right: 50px;\">\n",
    "    <img src=\"https://github.com/mepalaciosv/scientificComputingII/blob/main/images/mathematica.jpg?raw=true\" height=\"150\">\n",
    "  </div>\n",
    "\n",
    "  <div style=\"flex: 1; margin-right: 50px;\">\n",
    "    <img src=\"https://github.com/mepalaciosv/scientificComputingII/blob/main/images/top_tier.jpeg?raw=true\" height=\"150\">\n",
    "  </div>\n",
    "</div>\n",
    "\n",
    "<ul>\n",
    "  <li><strong>Symbolic</strong> and <strong>numeric</strong> computer environments</li>\n",
    "  <li>Multiparadigm programming languages</li>\n",
    "</ul>\n",
    "\n",
    "---"
   ]
  },
  {
   "cell_type": "markdown",
   "id": "2c7d48ff-1c2d-4dc5-8fb1-e8a833b2b4dc",
   "metadata": {},
   "source": [
    "<h2 style=\"color: teal\">Types of Languages</h2>\n",
    "\n",
    "<div style=\"display: flex; gap: 50px;\">\n",
    "\n",
    "  <div style=\"flex: 1;\">\n",
    "    <h3 style=\"color: teal; text-align: center;\">Compiled</h3>\n",
    "    <ul>\n",
    "      <li>Code must be compiled (translated into machine code) before running.</li>\n",
    "      <li>Syntax errors prevent compilation and must be fixed first.</li>\n",
    "      <li>Slower to develop with (compile → link → run cycle).</li>\n",
    "      <li>Programs are generally faster and more efficient.</li>\n",
    "      <li>Syntax can be more strict or verbose.</li>\n",
    "      <li>Good for low-level programming, memory control, or direct hardware access.</li>\n",
    "      <li><strong>Examples:</strong> C, C++, Fortran, Rust</li>\n",
    "    </ul>\n",
    "  </div>\n",
    "\n",
    "  <div style=\"flex: 1;\">\n",
    "    <h3 style=\"color: teal; text-align: center;\">Interpreted</h3>\n",
    "    <ul>\n",
    "      <li>Code is executed by an interpreter (usually line by line or via bytecode).</li>\n",
    "      <li>Syntax errors are detected when the interpreter reaches that line.</li>\n",
    "      <li>The source text file <strong>is</strong> the program.</li>\n",
    "      <li>Faster to write, test, and experiment with.</li>\n",
    "      <li>Usually slower than compiled code, but modern systems have narrowed this gap.</li>\n",
    "      <li><strong>Examples:</strong> Python, Ruby, JavaScript, MATLAB</li>\n",
    "    </ul>\n",
    "  </div>\n",
    "\n",
    "</div>\n",
    "\n",
    "<p style=\"font-size: 0.9em; margin-top: 1em;\">\n",
    "  <strong>Note:</strong> Some languages use <strong>Just-In-Time (JIT)</strong> compilation or hybrid models — for example \n",
    "  <strong>Java</strong>, <strong>C#</strong>, and <strong>Python (with PyPy or Numba)</strong> — which combine the fast development of interpreted languages \n",
    "  with the performance of compiled ones.\n",
    "</p>\n",
    "\n",
    "\n",
    "\n",
    "---\n"
   ]
  },
  {
   "cell_type": "markdown",
   "id": "85a0e923-172b-493f-bdd2-e6ce743bc286",
   "metadata": {
    "jp-MarkdownHeadingCollapsed": true
   },
   "source": [
    "<h2 style=\"color: teal\">Which one should you use?</h2>\n",
    "\n",
    "<ol>\n",
    "    <li>Computers are fast today.</li>\n",
    "    <ul>\n",
    "        <li>For most small or medium tasks, you don’t need to focus on low-level memory optimization from the start.</li>\n",
    "        <li>However, be mindful of memory usage when working with large datasets or scientific applications.</li>\n",
    "    </ul>\n",
    "    <li>Code readability and reuse are usually more important than raw speed.\n",
    "        <ul>\n",
    "            <li>Clear, maintainable code is easier to debug, extend, and collaborate on.</li>\n",
    "        </ul>\n",
    "    </li>\n",
    "    <li>\n",
    "    If performance becomes a problem:\n",
    "    <ul>\n",
    "      <li>Use profiling tools to analyze time-critical or CPU-intensive parts of your code.</li>\n",
    "      <li>Find bottlenecks with data — don’t guess where the slowdowns are.</li>\n",
    "    </ul>\n",
    "  </li>\n",
    "\n",
    "</ol>\n",
    "\n",
    "---"
   ]
  },
  {
   "cell_type": "markdown",
   "id": "c7f72264-30e1-4012-b10f-548f672df83a",
   "metadata": {},
   "source": [
    "<h2 style=\"color: teal;\">You Need</h2>\n",
    "\n",
    "- A computer\n",
    "    - Best if it is Unix-like (e.g. Linux or macOS)\n",
    "- Anaconda / pip\n",
    "- C / C++ compilers\n",
    "- A good text editor  \n",
    "  - Pick one that is easy to use and can help you.  \n",
    "  - We will probably use Visual Studio Code (VSC) for profiling, but you are free to use another.  \n",
    "  - If you like terminal editors such as Emacs or (Neo)Vim, many IDEs have extensions that emulate their behavior.  \n",
    "  - Your editor **should have:**\n",
    "    - Syntax highlighting  \n",
    "    - Line numbers  \n",
    "    - The ability to execute code directly from the editor  \n",
    "    - Awareness of functions (code navigation, outline)\n",
    "\n",
    "---"
   ]
  },
  {
   "cell_type": "markdown",
   "id": "6df389d7-dfea-4b57-b5fe-0490f3070c9c",
   "metadata": {},
   "source": [
    "<h1 style=\"color: teal;\">Hands on exercise</h1>\n",
    "Consider the Fibonacci sequence\n",
    "\n",
    "$$a_n = \\begin{cases} 1, & \\text{if } n = 0 \\\\\n",
    "1, & \\text{if } n = 1 \\\\\n",
    "a_{n-1} + a_{n-2}, & \\text{if } n \\ge 2\n",
    "\\end{cases} $$\n",
    "\n",
    "Assume that $\\lim_{n \\rightarrow \\infty} \\frac{a_{n+1}}{a_n} = \\phi$\n",
    "\n",
    "1. Estimate $\\phi$ with a relative error of at most $10^{-6}$, where\n",
    "    - $\\text{relative error}(n) = \\big| \\frac{a_{n+1}}{a_n} - \\frac{a_{n}}{a_{n-1}} \\big|$ \n",
    "2. For which value of $n$ do we get this estimation?\n",
    "\n",
    "Mathematically driven questions\n",
    "\n",
    "3. What is the exact value of $\\phi$?\n",
    "4. What happens to the limit if we take arbitrary $a_0, a_2 \\in \\mathbb{N}$.\n",
    "\n",
    "<h4 style=\"color: teal;\">Let's go to Python!</h4>"
   ]
  }
 ],
 "metadata": {
  "kernelspec": {
   "display_name": "Python 3 (ipykernel)",
   "language": "python",
   "name": "python3"
  },
  "language_info": {
   "codemirror_mode": {
    "name": "ipython",
    "version": 3
   },
   "file_extension": ".py",
   "mimetype": "text/x-python",
   "name": "python",
   "nbconvert_exporter": "python",
   "pygments_lexer": "ipython3",
   "version": "3.13.5"
  }
 },
 "nbformat": 4,
 "nbformat_minor": 5
}
