{
 "cells": [
  {
   "cell_type": "markdown",
   "id": "23c67e58",
   "metadata": {},
   "source": [
    "<h1 style=\"color: teal;\">Quiz 1: Fibonacci & the Golden Ratio</h1>\n",
    "\n",
    "**Note:** You can answer the questions in this same Jupyter document.\n",
    "\n",
    "Consider the **Fibonacci sequence** defined by\n",
    "\n",
    "$$\n",
    "a_n = \\begin{cases} \n",
    "1, & \\text{if } n = 0 \\\\\n",
    "1, & \\text{if } n = 1 \\\\\n",
    "a_{n-1} + a_{n-2}, & \\text{if } n \\geq 2\n",
    "\\end{cases}\n",
    "$$\n",
    "\n",
    "Assume that $\\lim_{n \\rightarrow \\infty} \\frac{a_{n+1}}{a_n} = \\phi$\n",
    "\n",
    "We are interested in the limiting behavior of the sequence given by the ratio of consecutive terms $ b_n = \\frac{a_{n+1}}{a_n} $. Assume the sequence converges, that is,\n",
    "\n",
    "$$ \\lim_{n \\to \\infty} \\frac{a_{n+1}}{a_n} = \\phi $$\n",
    "\n",
    "---\n",
    "\n",
    "<h2 style=\"color: teal;\">Part I: Numerical Estimation</h2>\n",
    "\n",
    "1. **(15 points)** Estimate the value of $\\phi$ with a **relative error** of at most $10^{-6}$, where  \n",
    "   $$ \\text{relative error}(n) = \\left| \\frac{a_{n+1}}{a_n} - \\frac{a_n}{a_{n-1}} \\right| $$\n",
    "\n",
    "2. **(10 points)** Determine the smallest index $n$ for which this accuracy is achieved."
   ]
  },
  {
   "cell_type": "markdown",
   "id": "5e230b09",
   "metadata": {},
   "source": []
  },
  {
   "cell_type": "markdown",
   "id": "3186c73b",
   "metadata": {},
   "source": [
    "---\n",
    "\n",
    "<h2 style=\"color: teal;\">Part II: Mathematically inclined questions</h2>\n",
    "\n",
    "These questions are supposed to be answered without the help of programming tools:\n",
    "\n",
    "3. **(10 points)** Find the exact value of $\\phi$ (the limit ratio of consecutive Fibonacci numbers).\n",
    "\n",
    "4. **(15 points)** Generalization: Suppose we start with arbitrary $a_0, a_1 \\in \\mathbb{N}$. What happens to the limit of $\\frac{a_{n+1}}{a_n}$ as $n \\to \\infty$?"
   ]
  },
  {
   "cell_type": "markdown",
   "id": "29eddcf5",
   "metadata": {},
   "source": []
  }
 ],
 "metadata": {
  "kernelspec": {
   "display_name": "Python 3 (ipykernel)",
   "language": "python",
   "name": "python3"
  },
  "language_info": {
   "codemirror_mode": {
    "name": "ipython",
    "version": 3
   },
   "file_extension": ".py",
   "mimetype": "text/x-python",
   "name": "python",
   "nbconvert_exporter": "python",
   "pygments_lexer": "ipython3",
   "version": "3.13.5"
  }
 },
 "nbformat": 4,
 "nbformat_minor": 5
}
