{
 "cells": [
  {
   "cell_type": "markdown",
   "id": "58e01e0b-a039-4f38-84cb-ac7ba5b45626",
   "metadata": {},
   "source": [
    "<h1 style=\"color: teal\">Lecture 2 - Performance</h1>\n",
    "\n",
    "<strong style=\"color: #1B2A49\">E. Margarita Palacios Vargas<br>\n",
    "Fundación Universitaria Konrad Lorenz</strong>\n",
    "\n",
    "---"
   ]
  },
  {
   "cell_type": "markdown",
   "id": "52b693cf-83ad-4557-8c8b-f1bfd7790301",
   "metadata": {},
   "source": [
    "<h2 style=\"color: teal\">Performance</h2>\n",
    "\n",
    "We already discussed that <strong>performance measurements are stochastic</strong> — i.e., repeated runs of the same program can produce slightly different execution times.\n",
    "\n",
    "Recapping, we can measure:\n",
    "\n",
    "- **Counts** — how often an event occurs\n",
    "- **Duration** — the time taken for some interval or operation\n",
    "- **Size** — the amount of data or memory used by a variable\n",
    "\n",
    "Next, we will look at how to measure performance in <strong>Python</strong>.\n",
    "\n",
    "---"
   ]
  },
  {
   "cell_type": "markdown",
   "id": "8a7cba59-f646-4dcc-b491-57bb37b193ec",
   "metadata": {},
   "source": [
    "<h2 style=\"color: teal\">2.1. Measuring CPU time</h2>\n",
    "\n",
    "<h4>1. <code>timeit</code></h4>\n",
    "\n",
    "The <code>timeit</code> module can be used to measure the execution time of small pieces of code.\n",
    "\n",
    "From the terminal, you can run:\n",
    "\n",
    "```bash\n",
    "python -m timeit \"my_function()\"\n",
    "```\n",
    "\n",
    "or, if you want to time a function inside a script:\n",
    "\n",
    "```bash\n",
    "python -m timeit -s \"import my_script\" \"my_script.main()\"\n",
    "```\n",
    "\n",
    "In a <strong>Jupyter Notebook</strong>, you can use the <strong>magic command</strong> <code>%timeit</code>:\n",
    "\n",
    "```bash\n",
    "%timeit my_function()\n",
    "```"
   ]
  },
  {
   "cell_type": "code",
   "execution_count": 4,
   "id": "78f67665-851b-45df-a12f-92e27c9659b4",
   "metadata": {},
   "outputs": [
    {
     "name": "stdout",
     "output_type": "stream",
     "text": [
      "3.13 ms ± 285 μs per loop (mean ± std. dev. of 7 runs, 100 loops each)\n",
      "102 μs ± 4.04 μs per loop (mean ± std. dev. of 7 runs, 10,000 loops each)\n"
     ]
    }
   ],
   "source": [
    "import numpy as np\n",
    "\n",
    "%timeit [x**4 for x in range(10000)]\n",
    "%timeit np.arange(10000)**4 # As you can see, numpy aranges run faster than Python core"
   ]
  },
  {
   "cell_type": "markdown",
   "id": "3e5ba0e4-9897-4800-9965-7cb1f06be996",
   "metadata": {},
   "source": [
    "As you can see, an approach to beat the stochastic CPU time is to use statistics. The output of this magic function shows the mean and standard deviation after running the subsequent code a number of times.\n",
    "\n",
    "We can also measure the execution CPU time of functions:\n",
    "\n",
    "**Note:** **`%timeit`** → one line, **`%%timeit`** → whole cell  "
   ]
  },
  {
   "cell_type": "code",
   "execution_count": 6,
   "id": "fd621119-086c-495f-b7b6-abb89371018f",
   "metadata": {},
   "outputs": [
    {
     "name": "stdout",
     "output_type": "stream",
     "text": [
      "192 ns ± 4.62 ns per loop (mean ± std. dev. of 7 runs, 10,000,000 loops each)\n"
     ]
    }
   ],
   "source": [
    "%%timeit # Now it applies to the entire cell\n",
    "def sum2d(arr):\n",
    "    M, N = arr.shape\n",
    "    result = 0.0\n",
    "    for i in range(M):\n",
    "        for j in range(N):\n",
    "            result += arr[i,j]\n",
    "    return result"
   ]
  },
  {
   "cell_type": "code",
   "execution_count": 12,
   "id": "f30c587e-2f99-4bc7-8939-58bd6ae1351b",
   "metadata": {},
   "outputs": [
    {
     "data": {
      "text/plain": [
       "True"
      ]
     },
     "execution_count": 12,
     "metadata": {},
     "output_type": "execute_result"
    }
   ],
   "source": [
    "# The previous script does not define the function\n",
    "def sum2d(arr):\n",
    "    M, N = arr.shape\n",
    "    result = 0.0\n",
    "    for i in range(M):\n",
    "        for j in range(N):\n",
    "            result += arr[i,j]\n",
    "    return result\n",
    "\n",
    "a = np.ones((2048, 2048)) \n",
    "a.size == 2048 ** 2 # Elements"
   ]
  },
  {
   "cell_type": "code",
   "execution_count": 10,
   "id": "2a91e070-7a2a-4d0a-bfce-f08edf5a820d",
   "metadata": {},
   "outputs": [
    {
     "name": "stdout",
     "output_type": "stream",
     "text": [
      "1.84 s ± 31 ms per loop (mean ± std. dev. of 7 runs, 1 loop each)\n"
     ]
    }
   ],
   "source": [
    "%timeit sum2d(a)"
   ]
  },
  {
   "cell_type": "markdown",
   "id": "b27785bd-2b70-46f9-b84f-eb6f9737de64",
   "metadata": {},
   "source": [
    "---\n",
    "\n",
    "<h4>2. <code>njit from numba</code></h4>\n",
    "\n",
    "The <code>njit</code> decorator from the <strong>Numba</strong> library performs <strong>Just-In-Time (JIT) compilation</strong> of Python functions to optimized machine code, often achieving speeds comparable to compiled languages like C or Fortran.\n",
    "\n",
    "<strong>Note:</strong> <code>@njit</code> is equivalent to <code>@jit(nopython = True)</code> and is now the recommended usage. The older <code>@jit</code> form is still supported, but its <em>object mode fallback</em> behavior has been deprecated. See the <a href=\"https://numba.readthedocs.io/en/stable/reference/deprecation.html#deprecation-of-object-mode-fall-back-behaviour-when-using-jit\">Numba documentation</a>.\n"
   ]
  },
  {
   "cell_type": "code",
   "execution_count": 13,
   "id": "8be98bb7-d665-4804-af12-ccab2c47c832",
   "metadata": {},
   "outputs": [],
   "source": [
    "from numba import njit\n",
    "\n",
    "a = np.ones((2048, 2048))"
   ]
  },
  {
   "cell_type": "code",
   "execution_count": 14,
   "id": "0c096384-ed48-4e9e-9e06-d17aae36338e",
   "metadata": {},
   "outputs": [],
   "source": [
    "@njit\n",
    "def sum2dv3(arr):\n",
    "    M, N = arr.shape\n",
    "    result = 0.0\n",
    "    for i in range(M):\n",
    "        for j in range(N):\n",
    "            result += arr[i,j]\n",
    "    return result"
   ]
  },
  {
   "cell_type": "code",
   "execution_count": 19,
   "id": "1e5defdc-7f1a-4dee-84ef-b4938f3dccc0",
   "metadata": {},
   "outputs": [
    {
     "name": "stdout",
     "output_type": "stream",
     "text": [
      "1.9 s ± 50.7 ms per loop (mean ± std. dev. of 7 runs, 1 loop each)\n",
      "9.88 ms ± 354 μs per loop (mean ± std. dev. of 7 runs, 100 loops each)\n"
     ]
    }
   ],
   "source": [
    "%timeit sum2d(a)\n",
    "%timeit sum2dv3(a) # njit's compiled code runs faster"
   ]
  },
  {
   "cell_type": "markdown",
   "id": "4fd0df9a-e62c-4898-b8a6-99de10facf46",
   "metadata": {},
   "source": [
    "---\n",
    "\n",
    "<h4>3. <code>numexpr</code></h4>\n",
    "\n",
    "The `numexpr` library in Python is designed to efficiently evaluate numerical expressions on arrays. It provides a way to accelerate numerical computations, especially those involving large arrays, by optimizing memory usage and utilizing multiple CPU cores."
   ]
  },
  {
   "cell_type": "code",
   "execution_count": 2,
   "id": "e9ab651b-f770-443e-8e4d-670e1a83704a",
   "metadata": {},
   "outputs": [],
   "source": [
    "import numexpr as ne"
   ]
  },
  {
   "cell_type": "code",
   "execution_count": 5,
   "id": "b6d666da-8806-4a07-95f2-2d6b5c890e43",
   "metadata": {},
   "outputs": [
    {
     "name": "stdout",
     "output_type": "stream",
     "text": [
      "6.83 ms ± 373 μs per loop (mean ± std. dev. of 7 runs, 100 loops each)\n",
      "2.05 ms ± 145 μs per loop (mean ± std. dev. of 7 runs, 100 loops each)\n"
     ]
    }
   ],
   "source": [
    "a = np.random.rand(100000)\n",
    "b = np.random.rand(100000)\n",
    "%timeit np.sin(a) + np.log(b)\n",
    "%timeit ne.evaluate(\"sin(a) + log(b)\")"
   ]
  },
  {
   "cell_type": "code",
   "execution_count": null,
   "id": "83477d05-78bb-4a57-bd26-ba18cedfe99d",
   "metadata": {},
   "outputs": [],
   "source": [
    "%timeit 2*a + 3*b\n",
    "%timeit ne.evaluate(\"2*a + 3*b\")"
   ]
  },
  {
   "cell_type": "markdown",
   "id": "5f938949-6eb9-4a43-9634-9db5ab947431",
   "metadata": {},
   "source": [
    "<h2 style=\"color: teal\">2.2. Measuring size</h2>"
   ]
  },
  {
   "cell_type": "code",
   "execution_count": 6,
   "id": "14b6408e-eedc-4f0f-875e-ceb5aae27f62",
   "metadata": {},
   "outputs": [],
   "source": [
    "x = np.array([1.3, 2.4, 3.3])"
   ]
  },
  {
   "cell_type": "code",
   "execution_count": 7,
   "id": "ef019ab7-0fa1-41e4-8ee7-c02c63cb1061",
   "metadata": {},
   "outputs": [
    {
     "data": {
      "text/plain": [
       "<memory at 0x000002AC3D75D900>"
      ]
     },
     "execution_count": 7,
     "metadata": {},
     "output_type": "execute_result"
    }
   ],
   "source": [
    "x.data # Memory Location"
   ]
  },
  {
   "cell_type": "code",
   "execution_count": 8,
   "id": "b82fc32f-ad88-4ef6-8ede-d655ecff477d",
   "metadata": {},
   "outputs": [
    {
     "data": {
      "text/plain": [
       "{'data': (2938757333936, False),\n",
       " 'strides': None,\n",
       " 'descr': [('', '<f8')],\n",
       " 'typestr': '<f8',\n",
       " 'shape': (3,),\n",
       " 'version': 3}"
      ]
     },
     "execution_count": 8,
     "metadata": {},
     "output_type": "execute_result"
    }
   ],
   "source": [
    "# 'data' = A 2-tuple whose first argument is a Python integer\n",
    "# that points to the data-area storing the array contents.\n",
    "x.__array_interface__"
   ]
  },
  {
   "cell_type": "code",
   "execution_count": 9,
   "id": "c9befd8b-9588-4822-a48b-148e85def62a",
   "metadata": {},
   "outputs": [
    {
     "data": {
      "text/plain": [
       "3"
      ]
     },
     "execution_count": 9,
     "metadata": {},
     "output_type": "execute_result"
    }
   ],
   "source": [
    "# Size (number of elements of the array)\n",
    "x.size"
   ]
  },
  {
   "cell_type": "code",
   "execution_count": 10,
   "id": "ad7cb8d8-ccbe-49a0-8008-0744bef0b287",
   "metadata": {},
   "outputs": [
    {
     "data": {
      "text/plain": [
       "8"
      ]
     },
     "execution_count": 10,
     "metadata": {},
     "output_type": "execute_result"
    }
   ],
   "source": [
    "# Memory size of one array element (in bytes)\n",
    "x.itemsize"
   ]
  },
  {
   "cell_type": "code",
   "execution_count": 8,
   "id": "50a30564-c355-4786-869e-f6ca11ebda13",
   "metadata": {},
   "outputs": [
    {
     "data": {
      "text/plain": [
       "24"
      ]
     },
     "execution_count": 8,
     "metadata": {},
     "output_type": "execute_result"
    }
   ],
   "source": [
    "# Memory size of the full (in bytes)\n",
    "x.itemsize * x.size"
   ]
  },
  {
   "cell_type": "markdown",
   "id": "9dc085b2-0f54-4da6-bca2-9101577b6c21",
   "metadata": {},
   "source": [
    "<h2 style=\"color: teal\">2.3. Profiling</h2>\n",
    "\n",
    "Profiling in Python means analyzing the performance of your code to identify bottlenecks and areas that can be optimized. Python provides several built-in tools for profiling. Here, we will cover some that are considered native (<i>i.e., they do not require additional software</i>).\n",
    "\n",
    "<h4>1. <code>cProfile</code></h4>\n",
    "\n",
    "<strong>Syntax (on bash):</strong>\n",
    "```bash\n",
    "python -m cProfile my_script.py\n",
    "```"
   ]
  },
  {
   "cell_type": "code",
   "execution_count": 7,
   "id": "968997bc-c328-408a-a8fe-8e857963fc42",
   "metadata": {},
   "outputs": [],
   "source": [
    "from os import system # Module to work with bash"
   ]
  },
  {
   "cell_type": "code",
   "execution_count": 4,
   "id": "c4130815-04c6-4bae-a16c-c93945b65a8a",
   "metadata": {},
   "outputs": [
    {
     "data": {
      "text/plain": [
       "1"
      ]
     },
     "execution_count": 4,
     "metadata": {},
     "output_type": "execute_result"
    }
   ],
   "source": [
    "system(\"cat examples/Example0.py\")"
   ]
  },
  {
   "cell_type": "code",
   "execution_count": 6,
   "id": "8be0173e-3bc3-4beb-bf7c-fe4e3fbed6cc",
   "metadata": {},
   "outputs": [
    {
     "data": {
      "text/plain": [
       "1"
      ]
     },
     "execution_count": 6,
     "metadata": {},
     "output_type": "execute_result"
    }
   ],
   "source": [
    "system(\"cat examples/Example0.py\")"
   ]
  },
  {
   "cell_type": "markdown",
   "id": "16eccdbb-5fee-4fa8-b129-98fab4e5e513",
   "metadata": {},
   "source": [
    "What are we seeing?\n",
    "- `ncalls`: This column shows the number of times each function was called during the execution of the program.\n",
    "- `tottime`: This column indicates the total time (in seconds) spent in each function excluding time spent in its subfunctions. It's the \"internal\" time spent exclusively in the function itself.\n",
    "- `percall`: This column shows the average time (in seconds) spent in each function call, calculated as tottime / ncalls.\n",
    "- `cumtime`: This column represents the cumulative time (in seconds) spent in the function and all its subfunctions. It includes the time spent in the function itself and all the functions called from it.\n",
    "- `percall` (cumtime): Average cumulative time (in seconds) per primitive call, calculated as cumtime / primitive calls. (If there’s no recursion, primitive calls ≈ ncalls, so the numbers will look the same.)\n",
    "- `filename:lineno(function)`: This column provides information about the location of the function in your code, including the filename, line number, and function name.\n",
    "\n",
    "The output is generally sorted by the cumtime column, which helps you quickly identify functions that consume the most overall time. These are potential candidates for optimization. You will want to look at functions with **high cumtime and ncalls values**."
   ]
  },
  {
   "cell_type": "markdown",
   "id": "4f945043-2455-4c5c-932c-626e49564c4e",
   "metadata": {},
   "source": [
    "Use `cProfile` to profile code and view stats:\n",
    "\n",
    "```python\n",
    "import cProfile, pstats\n",
    "\n",
    "# Run and show results\n",
    "cProfile.run(\"print('Hello profiling!')\")\n",
    "\n",
    "# Save results to a file\n",
    "cProfile.run(\"print('Hello profiling!')\", \"profiler\")\n",
    "\n",
    "# Load and inspect saved results\n",
    "stats = pstats.Stats(\"profiler\")\n",
    "stats.print_stats()\n",
    "```\n",
    "\n",
    "`cProfile` can also be invoked as a module to profile a given script (or module). The syntax is as follows.\n",
    "```bash\n",
    "python -m cProfile [-o output_file] [-s sort_order] (-m module | myscript.py)\n",
    "```\n",
    "Let us see an example. Run\n",
    "```bash\n",
    "python -m cProfile examples/factorial.py\n",
    "```"
   ]
  },
  {
   "cell_type": "markdown",
   "id": "8e300df3-d717-4c77-8521-314f31fa28df",
   "metadata": {},
   "source": [
    "<h4>2. <code>profile</code></h4>\n",
    "\n",
    "The `profile` module is another built-in profiler that provides a higher-level interface for profiling your code. It outputs information about function calls and their time consumption. You can use the `profile` module to profile specific parts of your code."
   ]
  },
  {
   "cell_type": "code",
   "execution_count": 11,
   "id": "fac490b1-eea1-45d2-a395-0381f51e3130",
   "metadata": {},
   "outputs": [],
   "source": [
    "import profile"
   ]
  },
  {
   "cell_type": "code",
   "execution_count": 9,
   "id": "c9406696-f4a5-4be0-a865-6f7ef2c63fd8",
   "metadata": {},
   "outputs": [
    {
     "name": "stdout",
     "output_type": "stream",
     "text": [
      "1.0 is a one...\n",
      "         34 function calls in 0.031 seconds\n",
      "\n",
      "   Ordered by: standard name\n",
      "\n",
      "   ncalls  tottime  percall  cumtime  percall filename:lineno(function)\n",
      "        1    0.031    0.031    0.031    0.031 987953020.py:1(main)\n",
      "        2    0.000    0.000    0.000    0.000 :0(__exit__)\n",
      "        1    0.000    0.000    0.000    0.000 :0(append)\n",
      "        2    0.000    0.000    0.000    0.000 :0(get)\n",
      "        2    0.000    0.000    0.000    0.000 :0(getpid)\n",
      "        1    0.000    0.000    0.000    0.000 :0(is_done)\n",
      "        2    0.000    0.000    0.000    0.000 :0(isinstance)\n",
      "        2    0.000    0.000    0.000    0.000 :0(items)\n",
      "        2    0.000    0.000    0.000    0.000 :0(len)\n",
      "        1    0.000    0.000    0.000    0.000 :0(print)\n",
      "        1    0.000    0.000    0.000    0.000 :0(setprofile)\n",
      "        2    0.000    0.000    0.000    0.000 :0(write)\n",
      "        1    0.000    0.000    0.000    0.000 iostream.py:138(_event_pipe)\n",
      "        1    0.000    0.000    0.000    0.000 iostream.py:259(schedule)\n",
      "        2    0.000    0.000    0.000    0.000 iostream.py:505(parent_header)\n",
      "        2    0.000    0.000    0.000    0.000 iostream.py:550(_is_master_process)\n",
      "        2    0.000    0.000    0.000    0.000 iostream.py:577(_schedule_flush)\n",
      "        2    0.000    0.000    0.000    0.000 iostream.py:655(write)\n",
      "        1    0.000    0.000    0.031    0.031 profile:0(<function main at 0x0000021182E6EC00>)\n",
      "        0    0.000             0.000          profile:0(profiler)\n",
      "        1    0.000    0.000    0.000    0.000 socket.py:626(send)\n",
      "        1    0.000    0.000    0.000    0.000 threading.py:1136(is_alive)\n",
      "        1    0.000    0.000    0.000    0.000 threading.py:605(is_set)\n",
      "        1    0.000    0.000    0.000    0.000 tz.py:74(utcoffset)\n",
      "\n",
      "\n"
     ]
    }
   ],
   "source": [
    "def main():\n",
    "\tx = [1.0] * (2048 * 2048) \n",
    "\ta = str(x[0]) \n",
    "\ta += \" is a one...\" \n",
    "\tdel x\t\t\t\n",
    "\tprint(a)\n",
    "\n",
    "profiler = profile.Profile()\n",
    "profiler.runcall(main)\n",
    "profiler.print_stats()"
   ]
  },
  {
   "cell_type": "markdown",
   "id": "b45ddbf3-8a25-461f-b68f-4307f38b8974",
   "metadata": {},
   "source": [
    "<h4>3. <code>line_profiler</code></h4>\n",
    "\n",
    "We are still getting an output similar to `cProfile`. To get an output of the performance line-by-line, we should do something else.\n",
    "1. Install `line_profiler` using `pip` or `anaconda`.\n",
    "```bash\n",
    "pip install line-profiler\n",
    "```\n",
    "2. On the .py file that you want to analyze, put the decorator `@profile` above the function that you want to profile.\n",
    "3. Use `kernprof.py` (found [here](https://github.com/pyutils/line_profiler/blob/main/kernprof.py), but also inside `examples`) on your .py file.\n",
    "```bash\n",
    "kernprof -l examples/Example1.py\n",
    "```\n",
    "4. Execute the command \n",
    "```bash\n",
    "python -m profile my_script.py\n",
    "```\n",
    "\n",
    "Try to do this for the example files in `examples/`\n",
    "\n",
    "There is also a way to do it locally. Bear with me."
   ]
  },
  {
   "cell_type": "code",
   "execution_count": 14,
   "id": "8585d48a-dc61-420b-8906-870260d2a2d3",
   "metadata": {},
   "outputs": [],
   "source": [
    "from line_profiler import LineProfiler"
   ]
  },
  {
   "cell_type": "code",
   "execution_count": 15,
   "id": "7fa529bd-90e1-468b-a35e-2ee5eb299e4a",
   "metadata": {},
   "outputs": [
    {
     "name": "stdout",
     "output_type": "stream",
     "text": [
      "a =  [[1 2]\n",
      " [4 3]]\n",
      "b =  [[1 2]\n",
      " [4 3]]\n",
      "[[ 9  8]\n",
      " [16 17]]\n",
      "[[ 9  8]\n",
      " [16 17]]\n",
      "Timer unit: 1e-07 s\n",
      "\n",
      "Total time: 0.0018448 s\n",
      "\n",
      "Could not find file C:\\Users\\Margarita\\AppData\\Local\\Temp\\ipykernel_15040\\1664494061.py\n",
      "Are you sure you are running this program from the same directory\n",
      "that you ran the profiler from?\n",
      "Continuing without the function's contents.\n",
      "\n",
      "Line #      Hits         Time  Per Hit   % Time  Line Contents\n",
      "==============================================================\n",
      "     1                                           \n",
      "     2         1       9447.0   9447.0     51.2  \n",
      "     3         1       3180.0   3180.0     17.2  \n",
      "     4         1       3113.0   3113.0     16.9  \n",
      "     5         1       2708.0   2708.0     14.7  \n",
      "\n"
     ]
    }
   ],
   "source": [
    "def main(a,b,c):\n",
    "\tprint(\"a = \", a)\n",
    "\tprint(\"b = \", b)\n",
    "\tprint(np.dot(a,b))\n",
    "\tprint(a @ b)\n",
    "\n",
    "a = np.array([[1,2],[4,3]])\n",
    "b = np.array([[1,2],[4,3]])\n",
    "c = np.arange(2) + 1\n",
    "\n",
    "lp = LineProfiler()\n",
    "lp_wrapper = lp(main)\n",
    "lp_wrapper(a,b,c)\n",
    "lp.print_stats()"
   ]
  },
  {
   "cell_type": "code",
   "execution_count": null,
   "id": "15a5e02a-afd5-4ea0-a1d2-25caca88d6df",
   "metadata": {},
   "outputs": [],
   "source": []
  }
 ],
 "metadata": {
  "kernelspec": {
   "display_name": "Python 3 (ipykernel)",
   "language": "python",
   "name": "python3"
  },
  "language_info": {
   "codemirror_mode": {
    "name": "ipython",
    "version": 3
   },
   "file_extension": ".py",
   "mimetype": "text/x-python",
   "name": "python",
   "nbconvert_exporter": "python",
   "pygments_lexer": "ipython3",
   "version": "3.13.5"
  }
 },
 "nbformat": 4,
 "nbformat_minor": 5
}
