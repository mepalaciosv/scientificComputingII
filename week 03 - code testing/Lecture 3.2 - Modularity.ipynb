{
 "cells": [
  {
   "cell_type": "markdown",
   "id": "4eae683c-9cd1-43e6-aef1-80cab7092ea0",
   "metadata": {},
   "source": [
    "<h1 style=\"color: teal\">Lecture 3.2 - Modularity</h1>\n",
    "\n",
    "<strong style=\"color: #1B2A49\">E. Margarita Palacios Vargas<br>\n",
    "Fundación Universitaria Konrad Lorenz</strong>\n",
    "\n",
    "---"
   ]
  },
  {
   "cell_type": "markdown",
   "id": "539315e6-0b9a-4f7d-9b8f-79a11556c2bc",
   "metadata": {},
   "source": [
    "<h2 style=\"color: teal\">What is modularity?</h2>\n",
    "\n",
    "Modularity refers to the practice of breaking down a complex system into smaller, manageable, and independent components or modules. \n",
    "- Each module encapsulates a specific set of functionality, and these modules can be developed, tested, and maintained separately.\n",
    "- Modularity is a fundamental principle in software design, engineering, and architecture that promotes code reusability, maintainability, and scalability.\n",
    "\n",
    "---"
   ]
  },
  {
   "cell_type": "markdown",
   "id": "4c45af56-a577-4b07-9045-1e1e672ccf20",
   "metadata": {},
   "source": [
    "<h2 style=\"color: teal\">Key aspects of modularity</h2>\n",
    "\n",
    "- *Encapsulation*: Each module hides its internal details and exposes a well-defined interface for interacting with the outside world. This concept is also known as information hiding.\n",
    "- *Abstraction*: Modules present a high-level view of their functionality to the rest of the system, allowing other parts of the system to use the module without needing to understand its internal complexities.\n",
    "- *Independence*: Modules are designed to be independent of each other, reducing the impact of changes in one module on others. This isolation minimizes the risk of unintended side effects when modifying code.\n",
    "- *Reusability*: Modular design encourages the development of reusable components. Modules that provide specific functionality can be reused in different projects or parts of the same project.\n",
    "- *Maintainability*: Because modules are isolated, debugging, testing, and maintaining code becomes easier. Changes and updates can be confined to specific modules without affecting the entire system.\n",
    "- *Scalability*: A modular system can be scaled by adding or modifying modules to accommodate new features or requirements.\n",
    "- *Collaboration*: Modularity facilitates collaboration among developers working on different parts of the system. Teams can work on separate modules simultaneously, reducing development time.\n",
    "\n",
    "---\n"
   ]
  },
  {
   "cell_type": "markdown",
   "id": "d2a40ba4-4f2f-4213-939f-880c38e0a8b1",
   "metadata": {},
   "source": [
    "<h2 style=\"color: teal\">Python example</h2>\n",
    "\n",
    "Suppose you're building a simple program to perform mathematical operations. You can create a modular design by organizing your code into separate functions and modules for different mathematical operations.\n",
    "\n",
    "File #1 (*math_operations.py*):"
   ]
  },
  {
   "cell_type": "code",
   "execution_count": null,
   "id": "636c0960-b54f-41d5-ac73-6edc3e72ab24",
   "metadata": {},
   "outputs": [],
   "source": [
    "# math_operations.py\n",
    "\n",
    "def add(a, b):\n",
    "    return a + b\n",
    "\n",
    "def subtract(a, b):\n",
    "    return a - b"
   ]
  },
  {
   "cell_type": "markdown",
   "id": "91e4fe2f-f1c0-4b69-9558-48a8201b1a37",
   "metadata": {},
   "source": [
    "File #2 (*math_results*):"
   ]
  },
  {
   "cell_type": "code",
   "execution_count": null,
   "id": "166c8e1d-be06-4481-9ca9-e09c0a96f5d9",
   "metadata": {},
   "outputs": [],
   "source": [
    "# math_results.py\n",
    "import math_operations\n",
    "\n",
    "num1 = 10\n",
    "num2 = 5\n",
    "\n",
    "# Use functions from the math_operations module\n",
    "sum_result = math_operations.add(num1, num2)\n",
    "difference_result = math_operations.subtract(num1, num2)\n",
    "\n",
    "print(f\"Sum: {sum_result}\")\n",
    "print(f\"Difference: {difference_result}\")"
   ]
  },
  {
   "cell_type": "markdown",
   "id": "02ec124f-6c26-4da3-babe-edb0ecdf7364",
   "metadata": {},
   "source": [
    "Result:\n",
    "```bash\n",
    "Sum: 15\n",
    "Difference: 5\n",
    "```\n",
    "\n",
    "Both files should be in the same path. You can find them in the `examples` folder.\n",
    "\n",
    "---"
   ]
  },
  {
   "cell_type": "markdown",
   "id": "0c1a379f-b3ac-4dcb-973c-d341c59e0159",
   "metadata": {},
   "source": [
    "<h2 style=\"color: teal\">Python Packages</h2>\n",
    "\n",
    "- A package is a way to organize related modules into a directory hierarchy.\n",
    "- Packages allow you to create a structured and organized environment for your code, making it easier to manage and distribute. \n",
    "- Packages are particularly useful when you're working on larger projects that involve multiple modules and functionalities.\n",
    "- Packages are created by organizing related modules within a directory hierarchy. The top-level directory becomes the package name, and subdirectories become sub-packages.\n",
    "\n",
    "---"
   ]
  },
  {
   "cell_type": "markdown",
   "id": "60dda230-a5a7-49e2-8ede-1d2a94b7ba1f",
   "metadata": {},
   "source": [
    "<h2 style=\"color: teal\">Package example</h2>\n",
    "\n",
    "<div style=\"display: flex; gap: 50px; align-items: flex-start;\">\n",
    "\n",
    "  <div style=\"flex: 1; padding-right: 20px;\">\n",
    "    Consider the package named `mypackage` with the following directory structure:\n",
    "\n",
    "  <pre><code>\n",
    "mypackage/\n",
    "├── __init__.py\n",
    "├── math_operations.py\n",
    "└── geometry/\n",
    "    ├── __init__.py\n",
    "    ├── area.py\n",
    "    └── volume.py\n",
    "</code></pre>\n",
    "  </div>\n",
    "\n",
    "  <div style=\"flex: 1; padding-left: 20px;\">\n",
    "\n",
    "  Here is how you can use this package:\n",
    "\n",
    "  <pre><code class=\"language-python\"># Alternatively, use shorter names with 'as'\n",
    "import mypackage.math_operations as math_ops\n",
    "import mypackage.geometry.area as geometry_area\n",
    "\n",
    "# Access functions from the modules\n",
    "result = math_ops.add(5, 10)\n",
    "area_result = geometry_area.calculate_area(10, 20)\n",
    "</code></pre>\n",
    "  </div>\n",
    "</div>\n",
    "\n",
    "---"
   ]
  },
  {
   "cell_type": "markdown",
   "id": "7b3f6b70-20aa-41a7-8102-0877a92593df",
   "metadata": {},
   "source": [
    "<h2 style=\"color: teal\">Where should I put my package?</h2>\n",
    "\n",
    "In principle, it should be at the same location of the main code. Nevertheless, you can change the `PYTHONPATH` to include the location of your package.\n",
    "\n",
    "<h4 style=\"color: teal\">1. Changing it locally</h4>\n",
    "\n",
    "```python\n",
    "import sys\n",
    "print(sys.path) # Shows the actual path\n",
    "sys.path.append('/path/to/your/package')  # Append the path of your package\n",
    "\n",
    "import mypackage.module1\n",
    "```\n",
    "\n",
    "<h4 style=\"color: teal\">2. Changing it globally</h4>\n",
    "\n",
    "On a terminal prompt (or in your `.bashrc`) write\n",
    "\n",
    "```sh\n",
    "export PYTHONPATH = \"/path/to/your/package:$PYTHONPATH\"\n",
    "```\n",
    "\n",
    "There is a third way of doing this, but we will cover it in detail in the following section.\n",
    "\n",
    "---\n"
   ]
  },
  {
   "cell_type": "markdown",
   "id": "867f63a5-0925-4933-9de3-5dd359925f4b",
   "metadata": {},
   "source": [
    "<h2 style=\"color: teal\">Environments</h2>\n",
    "\n",
    "- Python virtual environments are an important concept in Python programming that allow you to create isolated environments for your projects.\n",
    "- These environments ensure that dependencies for one project do not interfere with other projects, and they help manage package versions effectively.\n",
    "- To create a virtual environment, you can use the `venv` module or third-party tools like `virtualenv` or `conda`. We will use the first.\n",
    "\n",
    "---"
   ]
  },
  {
   "cell_type": "markdown",
   "id": "c97ed58a-72ff-4af8-8f97-f13f4539a7ab",
   "metadata": {},
   "source": [
    "<h2 style=\"color: teal\"><code style=\"color: teal\">venv</code> usage</h2>\n",
    "\n",
    "\n",
    "1. Open a terminal and navigate to the directory where you want to create your project's environment. Then write:\n",
    "```bash\n",
    "# Replace 'myenv' with the desired name of your environment\n",
    "python -m venv myenv\n",
    "```\n",
    "2. Activate the virtual environment using:\n",
    "```bash\n",
    "# On Windows\n",
    "myenv\\Scripts\\activate\n",
    "# On macOS and Linux:\n",
    "source myenv/bin/activate\n",
    "```\n",
    "\n",
    "3. Now you can install packages using `conda` or `pip`. Packages installed in the virtual environment are isolated from the global Python installation.\n",
    "```bash\n",
    "pip install package-name\n",
    "conda install package-name\n",
    "```\n",
    "Sometimes `pip` or `anaconda` hang out. The solution is to use the `-v` (verbose) flag.\n",
    "\n",
    "4. You can close the environment using\n",
    "```bash\n",
    "deactivate\n",
    "```\n",
    "\n",
    "---"
   ]
  },
  {
   "cell_type": "markdown",
   "id": "f874676c-c02d-4a60-ae3b-a484da857b7c",
   "metadata": {},
   "source": [
    "<h2 style=\"color: teal\">Example</h2>\n",
    "\n",
    "Let us install `numpy` in our new environment.\n",
    "```bash\n",
    "pip -v install numpy\n",
    "```\n",
    "This is the unique library that our environment has. To check this, write\n",
    "```bash\n",
    "pip freeze\n",
    "```\n",
    "and you will get the libraries (and their respective versions) installed in your env.\n",
    "\n",
    "---"
   ]
  },
  {
   "cell_type": "markdown",
   "id": "0859f758-43a9-46cd-8185-b10267d25bc8",
   "metadata": {},
   "source": [
    "<h2 style=\"color: teal\">Requirements</h2>\n",
    "\n",
    "Suppose that you need a specific version (let's say `1.0`) of a library called `library`. Then you should write\n",
    "\n",
    "```bash\n",
    "pip install library == 1.0\n",
    "```\n",
    "For example, if I want `matplotlib` version `3.5`, I use\n",
    "```bash\n",
    "pip install matplotlib == 3.5\n",
    "```\n",
    "Using `pip freeze` again will reflect this change.\n",
    "\n",
    "We can write a list of the current libraries installed in our environment writing\n",
    "```bash\n",
    "pip freeze > requirements.txt\n",
    "```\n",
    "so you can install them in a new environment using\n",
    "```bash\n",
    "pip install -r requirements.txt\n",
    "```\n",
    "\n",
    "---"
   ]
  },
  {
   "cell_type": "markdown",
   "id": "65be1db8-720b-40bc-bb89-37443a340dc0",
   "metadata": {},
   "source": [
    "<h2 style=\"color: teal\">Enviroments and packages</h2>\n",
    "\n",
    "When using an environment, the packages's path is local, and can be checked using\n",
    "```bash\n",
    "python -c \"import sys; print(sys.path)\"\n",
    "```\n",
    "The name of the directory containing the packages is `site-packages/`. Therefore, you should move any package of yours there in order to be detected by your environment.\n",
    "\n",
    "Nevertheless, there is a cleaner way to deploy your packages in an environment using a `setup.py` file.\n",
    "\n",
    "---"
   ]
  },
  {
   "cell_type": "markdown",
   "id": "8ff5a64e-ba94-4c7b-8517-90bf707ebb52",
   "metadata": {},
   "source": [
    "<h4><code style=\"color: teal\">setup.py</code></h4>\n",
    "\n",
    "```python\n",
    "from setuptools import setup, find_packages\n",
    "\n",
    "setup(\n",
    "    name = \"my_package\",\n",
    "    version = \"1.0.0\",\n",
    "    packages = find_packages(),\n",
    "    description = \"A package for mathematical operations and geometry\",\n",
    "    author = \"Your Name\",\n",
    "    author_email = \"your.email@example.com\",\n",
    "    url = \"https://github.com/yourusername/my_package\",\n",
    "    classifiers = [\n",
    "        \"License :: OSI Approved :: MIT License\",\n",
    "        \"Programming Language :: Python :: 3.9\"\n",
    "    ],\n",
    "    python_requires = \">=3.7\",\n",
    "    install_requires = ['wheel', 'bar', 'greek']\n",
    ")\n",
    "```\n",
    "\n",
    "Putting the `setup.py` file in the main directory of your project suffices to install it using `pip`:\n",
    "```bash\n",
    "pip install -e my_package/\n",
    "```\n",
    "There are multiple advantages of this approach, namely\n",
    "- **Dependency management:** `setup.py` allows you to specify and manage package dependencies.\n",
    "- **Version control**.\n",
    "- **Clean installation and removal:** you can use `pip uninstall your_package`.\n",
    "- **Automatic script creation:** You can use `entry_points` in `setup.py` to specify scripts that should be created and added to your system's PATH during installation. \n",
    "- **Packaging for Distribution**.\n",
    "- **Metadata**.\n",
    "- **Consistent Development Workflow:** When working on a project, using `setup.py` to install and manage dependencies becomes part of the standard development workflow.\n",
    "\n",
    "---"
   ]
  },
  {
   "cell_type": "markdown",
   "id": "a8a593a5",
   "metadata": {},
   "source": []
  }
 ],
 "metadata": {
  "kernelspec": {
   "display_name": "Python 3 (ipykernel)",
   "language": "python",
   "name": "python3"
  },
  "language_info": {
   "codemirror_mode": {
    "name": "ipython",
    "version": 3
   },
   "file_extension": ".py",
   "mimetype": "text/x-python",
   "name": "python",
   "nbconvert_exporter": "python",
   "pygments_lexer": "ipython3",
   "version": "3.13.5"
  }
 },
 "nbformat": 4,
 "nbformat_minor": 5
}
