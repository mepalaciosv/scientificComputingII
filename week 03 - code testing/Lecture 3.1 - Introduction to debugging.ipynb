{
 "cells": [
  {
   "cell_type": "markdown",
   "id": "1314f65f-b4cb-41a6-bff7-e76f84ec1c22",
   "metadata": {},
   "source": [
    "<h1 style=\"color: teal\">Lecture 3.1 - Introduction to Debugging</h1>\n",
    "\n",
    "<strong style=\"color: #1B2A49\">E. Margarita Palacios Vargas<br>\n",
    "Fundación Universitaria Konrad Lorenz</strong>\n",
    "\n",
    "---"
   ]
  },
  {
   "cell_type": "markdown",
   "id": "28fd9f22-02eb-4556-b92b-5037d5f371b9",
   "metadata": {},
   "source": [
    "<h2 style=\"color: teal\">Debugging</h2>\n",
    "\n",
    "Debugging is a crucial aspect of the software development process that involves identifying and resolving issues in code. These issues, commonly referred to as *bugs*, can cause unexpected behavior, errors, and incorrect outputs in software applications. Debugging is a fundamental skill that empowers developers to create reliable and functional software products.\n",
    "\n",
    "In this class we will explore how to do debugging in Python.\n",
    "\n",
    "---\n",
    "\n",
    "<h4>1. <code>pdb</code></h4>\n",
    "<h5>1.1 <code>pdb</code> inside a standalone script</h5>\n",
    "\n",
    "`pdb` is the standard library dedicated to debugging in Python. It is included in your Python distribution by default.\n",
    "\n",
    "**Note:** `pdb` works best in standalone `.py` scripts. In Jupyter notebooks, it may show limited behavior or warnings.\n",
    "\n",
    "- For **Python versions earlier than 3.7**, you need to import it explicitly and call it:\n",
    "```python\n",
    "import pdb\n",
    "pdb.set_trace()  # Set a breakpoint here\n",
    "```\n",
    "- For **Python 3.7 and above**, you can simply use:\n",
    "```python\n",
    "breakpoint()  # Built-in, no need to import pdb\n",
    "```\n",
    "\n",
    "For example, running `Example1.py` inside the examples folder and hitting a breakpoint might stop execution like this:\n",
    "\n",
    "```bash\n",
    "-> breakpoint()  # program stops here, open interactive debugger\n",
    "(Pdb)\n",
    "```\n",
    "\n",
    "At the `(Pdb)` prompt you can navigate with commands such as:\n",
    "\n",
    "| Command | Description |\n",
    "|----------|-------------|\n",
    "| `n` (next) | Execute the next line in the current function (step over). |\n",
    "| `s` (step into) | Execute the current line and stop at the first possible occasion (either inside a called function or in the current one). |\n",
    "| `c` (continue) | Continue execution until the next breakpoint. |\n",
    "| `q` (quit) | Quit the debugger and stop the program. |\n",
    "| `l` (list) | Show the source code around the current line. |\n",
    "| `p variable_name` (print) | Print the value of `variable_name`. |\n",
    "| `h` (help) | Show help for commands. |\n",
    "\n",
    "To get specific help on a given command, type `help <command>`. You can use these commands to step through your code and inspect its behavior to track down issues.\n"
   ]
  },
  {
   "cell_type": "markdown",
   "id": "1aa5c27c-d81d-421a-aeef-ecb22a517f9c",
   "metadata": {},
   "source": [
    "<h5>1.2 <code>pdb</code> directly from the terminal</h5>\n",
    "\n",
    "You can also run `pdb` directly from the terminal. If we get into the `examples` folder we can execute\n",
    "```bash\n",
    "python -m pdb Example1.py\n",
    "```\n",
    "This will start the script under the debugger and pause at the first line of code. From there you can set breakpoints manually (with commands like `b lineno`) and step through the program, without needing to add `breakpoint()` inside the source.\n",
    "\n",
    "---"
   ]
  },
  {
   "cell_type": "markdown",
   "id": "2ca915d5-d914-4317-9c6d-84400e397491",
   "metadata": {},
   "source": [
    "<h4>2. Graphical debugger</h4>\n",
    "\n",
    "Let us see the following example:"
   ]
  },
  {
   "cell_type": "code",
   "execution_count": 1,
   "id": "54c48080-d2bf-458f-9563-bce985536495",
   "metadata": {},
   "outputs": [
    {
     "name": "stdout",
     "output_type": "stream",
     "text": [
      "The factorial of 5 is 120\n"
     ]
    }
   ],
   "source": [
    "def factorial(n):\n",
    "    if n == 0:\n",
    "        return 1\n",
    "    else:\n",
    "        return n * factorial(n - 1)\n",
    "\n",
    "def main():\n",
    "    number = 5\n",
    "    result = factorial(number)\n",
    "    print(f\"The factorial of {number} is {result}\")\n",
    "\n",
    "# I use a main function to avoid debugging over the\n",
    "# shell methods of Jupyter Notebook\n",
    "main()"
   ]
  },
  {
   "cell_type": "markdown",
   "id": "53916e53-65e6-4f79-b9d5-ccb017d95bd3",
   "metadata": {},
   "source": [
    "This can be a bit tedious if we only want to step through the code we wrote ourselves. A way around this is to use the **graphical debugger** provided by JupyterLab (Python version 3.0+). You can activate it by clicking the bug-shaped button in the upper right corner of the notebook interface.\n",
    "\n",
    "To use this debugger, your notebook must run on a kernel that supports the Debug Adapter Protocol (DAP). For Python, this is provided by **xeus-python**:\n",
    "\n",
    "```bash\n",
    "# with conda\n",
    "conda install -c conda-forge xeus-python\n",
    "\n",
    "# with pip (experimental)\n",
    "pip install xeus-python\n",
    "```\n",
    "\n",
    "Then, after enabling the debugger you should go to JupyterLab (upper right corner) and then do this:\n",
    "\n",
    "1. Activate debugging for the current kernel\n",
    "   - When you click the bug icon, you’ll be asked to enable the debugger for your notebook’s kernel (make sure it’s `xeus-python` or another DAP-enabled kernel).  \n",
    "2. Set breakpoints in your code\n",
    "   - In the code cells, click in the **left margin** (next to the line numbers) to add red circles (breakpoints).  \n",
    "   - These breakpoints tell the debugger where to pause execution.  \n",
    "3. Run the cell\n",
    "   - Execute the cell as usual.  \n",
    "   - When execution reaches a breakpoint, the debugger will **pause there**.  \n",
    "4. Use the Debugger Panel (usually opens on the left sidebar):  \n",
    "   - ⏭️ Step Over → Run the next line, skip into sub-functions.  \n",
    "   - ↘️ Step Into → Enter the function call on the current line.  \n",
    "   - ↖️ Step Out → Finish the current function and return to the caller.  \n",
    "   - ▶️ Continue → Keep running until the next breakpoint.  \n",
    "   - ⏹️ Stop → Terminate debugging.  \n",
    "5. Inspect variables\n",
    "   - The debugger panel also shows **local variables, call stack, and breakpoints list**.  \n",
    "   - Expand these sections to inspect values live, without needing to print.\n",
    "\n",
    "---"
   ]
  },
  {
   "cell_type": "markdown",
   "id": "debf720d-6675-4166-bc3a-779d958153d5",
   "metadata": {},
   "source": [
    "<h4>3. Debugpy</h4>\n",
    "\n",
    "You also have the option to to use a dedicated debugger called `debugpy`. It can be installed by doing\n",
    "```bash\n",
    "pip/conda install debugpy\n",
    "```\n",
    "and then apply it to the notebook instance using\n",
    "\n",
    "```bash\n",
    "python -m ipykernel install --user --name=debugpy --display-name=\"Python (debugpy)\n",
    "```\n",
    "\n",
    "Afterwards, we can follow the instructions:\n",
    "1. Run the command once in your terminal.  \n",
    "   - This doesn’t start anything, it just adds a new kernel spec.  \n",
    "2. Open **Jupyter Notebook or JupyterLab**.  \n",
    "3. Go to the **Kernel menu → Change Kernel**.  \n",
    "4. Select **“Python (debugpy)”**.  \n",
    "5. Now, your notebook is running on a Python kernel that has `debugpy` properly configured.  \n",
    "   - If you’re in **JupyterLab ≥ 3.0**, you can click the 🐞 bug icon to start debugging.  \n",
    "   - If you’re in **classic Jupyter**, you can still use `%debug` or `%pdb on` magics.  \n",
    "\n",
    "\n",
    "##### Example:\n",
    "Let us debug the following code:"
   ]
  },
  {
   "cell_type": "code",
   "execution_count": null,
   "id": "fe4ef400-fb03-42ca-9301-5f95f55a7e34",
   "metadata": {},
   "outputs": [],
   "source": [
    "def factorial(n):\n",
    "    if n == 0:\n",
    "        return 1\n",
    "    else:\n",
    "        return n * factorial(n - 1)\n",
    "\n",
    "def main():\n",
    "    num = - 1\n",
    "    result = factorial(num)\n",
    "    print(f\"The factorial of {num} is {result}\")\n",
    "\n",
    "    numbers = [1, 2, 3, 4, 5]\n",
    "    total = 0\n",
    "    for i in range(len(numbers)):\n",
    "        total += numbers[i]\n",
    "        average = total / i\n",
    "\n",
    "    print(f\"The average of the numbers is {average}\")\n",
    "\n",
    "if __name__ == \"__main__\":\n",
    "    main()"
   ]
  },
  {
   "cell_type": "markdown",
   "id": "a1ea5d82",
   "metadata": {},
   "source": [
    "---"
   ]
  },
  {
   "cell_type": "markdown",
   "id": "3245d2e1-c899-4a45-9feb-9884e633b1a4",
   "metadata": {},
   "source": [
    "<h4>4. Closing statements</h4>\n",
    "\n",
    "Many developers (myself included) don’t find debuggers all that useful for everyday work.  \n",
    "Most of the time, simple `print()` or `logging` statements (or rerunning small chunks of code in a notebook) are faster and more intuitive.  \n",
    "\n",
    "Debuggers are best kept as a specialized tool: handy for complex control flow, stepping into library code, or inspecting stack frames, but often overkill for quick debugging.\n"
   ]
  },
  {
   "cell_type": "markdown",
   "id": "a3aafe73-0cd4-481e-99c2-6ded3ccbb2bf",
   "metadata": {},
   "source": [
    "---\n",
    "\n",
    "### References\n",
    "- [1]. https://realpython.com/python-debugging-pdb/\n"
   ]
  }
 ],
 "metadata": {
  "kernelspec": {
   "display_name": "Python (debugpy)",
   "language": "python",
   "name": "debugpy"
  },
  "language_info": {
   "codemirror_mode": {
    "name": "ipython",
    "version": 3
   },
   "file_extension": ".py",
   "mimetype": "text/x-python",
   "name": "python",
   "nbconvert_exporter": "python",
   "pygments_lexer": "ipython3",
   "version": "3.13.5"
  }
 },
 "nbformat": 4,
 "nbformat_minor": 5
}
